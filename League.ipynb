{
 "cells": [
  {
   "cell_type": "markdown",
   "metadata": {},
   "source": [
    "# League of Legends: Evaluating individual ranked performance and in-game variables"
   ]
  },
  {
   "cell_type": "markdown",
   "metadata": {},
   "source": [
    "League of Legends (LoL) is the [most popular](https://newzoo.com/insights/rankings/top-20-core-pc-games/) online game in the world. With an active player base of over [80 million monthly players](https://www.unrankedsmurfs.com/blog/players-2017), the multiplayer online battle arena (or MOBA, for short) has continued to grow since its inception in 2011. Much of it's popularity stems from its replayability and competitive match-making system; players fight 5v5 battles on the same map using various strategies in an effort to improve their 'rank.' \n",
    "\n",
    "Each League of Legends match is packed with individual and team-level data that helps capture each players' mechanical and decision-making abilities. While the data may miss some of the more nuanced elements of gameplay, we can still use it to highlight individual strengths and weaknesses, which can, in turn, be used to improve performance. For reference, players can be ranked based on their skill-level (low to high) using the following system: Bronze - Silver - Gold - Platinum - Diamond - Master/Challenger.\n",
    "\n",
    "This notebook provides users an opportunity to access and evaluate their individual-level performances using data retrieved from the Riot API. While much of it is dedicated to data retrival and cleaning, I've included some surface level statistical analysis as well. Moreover, users may freely alter the code to perform deeper statistical analysis as they see fit. Personally, I plan on expanding this notebook to explore machine learning methods to predict match performances and outcomes. \n",
    "\n",
    "Currently, the following cells are set to retrieve data from my own account using my personal API key (which has been hidden from public view). However, the 'account_name' variable may be altered to retrieve data from any NA account. To do so, you'll need to request your own development API key from their [developer site](https://developer.riotgames.com/)."
   ]
  },
  {
   "cell_type": "code",
   "execution_count": 7,
   "metadata": {},
   "outputs": [],
   "source": [
    "import requests\n",
    "import pandas as pd\n",
    "import numpy as np\n",
    "\n",
    "a_token = ''"
   ]
  },
  {
   "cell_type": "markdown",
   "metadata": {},
   "source": [
    "## Retriving account info from the Riot API"
   ]
  },
  {
   "cell_type": "code",
   "execution_count": 8,
   "metadata": {},
   "outputs": [
    {
     "data": {
      "text/plain": [
       "{'accountId': 39390294,\n",
       " 'id': 24913984,\n",
       " 'name': 'tinyShanks',\n",
       " 'profileIconId': 1110,\n",
       " 'revisionDate': 1520147671000,\n",
       " 'summonerLevel': 52}"
      ]
     },
     "execution_count": 8,
     "metadata": {},
     "output_type": "execute_result"
    }
   ],
   "source": [
    "# To acquire the account ID for the desired account, simply pass in the summoner name as a string through 'account_name.'\n",
    "\n",
    "account_name = 'tinyShanks'\n",
    "account_info = requests.get('https://na1.api.riotgames.com/lol/summoner/v3/summoners/by-name/'+account_name+'?api_key='+a_token)\n",
    "account_info = account_info.json()\n",
    "account_info"
   ]
  },
  {
   "cell_type": "code",
   "execution_count": 9,
   "metadata": {},
   "outputs": [],
   "source": [
    "IDnum = str(account_info['accountId'])\n",
    "matches = requests.get('https://na1.api.riotgames.com/lol/match/v3/matchlists/by-account/'+IDnum+'?queue=420&api_key='+a_token)\n",
    "matches = matches.json()['matches']"
   ]
  },
  {
   "cell_type": "markdown",
   "metadata": {},
   "source": [
    "## Retrieving match history information\n",
    "\n",
    "Due to Riot's API rate limiting - 100 calls per 1 second - data retrieval must happen in two separate steps (see the following two code cells). Each cell **must** be run with an approximately 10 second interval in between to avoid retrieval errors."
   ]
  },
  {
   "cell_type": "code",
   "execution_count": 10,
   "metadata": {},
   "outputs": [],
   "source": [
    "m_hist = pd.DataFrame(matches)\n",
    "m_ids = m_hist['gameId']\n",
    "\n",
    "m_id1 = m_ids[:50]\n",
    "m_id2 = m_ids[50:]"
   ]
  },
  {
   "cell_type": "code",
   "execution_count": 5,
   "metadata": {},
   "outputs": [],
   "source": [
    "data1 = []\n",
    "for mid in m_id1:\n",
    "    match = str(mid)\n",
    "    full = requests.get('https://na1.api.riotgames.com/lol/match/v3/matches/'+match+'?api_key='+a_token).json()\n",
    "    data1.append(full)"
   ]
  },
  {
   "cell_type": "code",
   "execution_count": 11,
   "metadata": {
    "collapsed": true
   },
   "outputs": [],
   "source": [
    "data2 = []\n",
    "for mid in m_id2:\n",
    "    match = str(mid)\n",
    "    full = requests.get('https://na1.api.riotgames.com/lol/match/v3/matches/'+match+'?api_key='+a_token).json()\n",
    "    data2.append(full)"
   ]
  },
  {
   "cell_type": "code",
   "execution_count": 12,
   "metadata": {
    "collapsed": true
   },
   "outputs": [
    {
     "data": {
      "text/plain": [
       "2603489543"
      ]
     },
     "execution_count": 12,
     "metadata": {},
     "output_type": "execute_result"
    }
   ],
   "source": [
    "# Combine the two .json lists into one; check for retrieval errors. If the cell returns an error, you need to re-run one or both of the above cells at a longer interval.\n",
    "\n",
    "data = data1 + data2\n",
    "data[99]['gameId']"
   ]
  },
  {
   "cell_type": "markdown",
   "metadata": {},
   "source": [
    "## Prepping the data for pandas\n",
    "\n",
    "This section removes and/or alters columns that I personally found less useful for data analysis. Feel free to alter this as you see fit."
   ]
  },
  {
   "cell_type": "code",
   "execution_count": 13,
   "metadata": {},
   "outputs": [
    {
     "data": {
      "text/plain": [
       "['gameId',\n",
       " 'gameDuration',\n",
       " 'seasonId',\n",
       " 'gameVersion',\n",
       " 'teams',\n",
       " 'participants',\n",
       " 'participantIdentities']"
      ]
     },
     "execution_count": 13,
     "metadata": {},
     "output_type": "execute_result"
    }
   ],
   "source": [
    "# Remove columns that aren't useful for data analysis\n",
    "\n",
    "selected_columns = list(data[0].keys())\n",
    "to_rmv = ['mapId','platformId','gameCreation','queueId','gameMode','gameType']\n",
    "for label in to_rmv:\n",
    "    selected_columns.remove(label)\n",
    "selected_columns"
   ]
  },
  {
   "cell_type": "code",
   "execution_count": 14,
   "metadata": {},
   "outputs": [],
   "source": [
    "# First round of prep\n",
    "\n",
    "selected_data = []\n",
    "for i in data:\n",
    "    m = {}\n",
    "    for label in selected_columns:\n",
    "        m[label] = i[label]\n",
    "    selected_data.append(m)"
   ]
  },
  {
   "cell_type": "code",
   "execution_count": 15,
   "metadata": {},
   "outputs": [
    {
     "data": {
      "text/plain": [
       "['gameId', 'gameDuration', 'seasonId', 'gameVersion']"
      ]
     },
     "execution_count": 15,
     "metadata": {},
     "output_type": "execute_result"
    }
   ],
   "source": [
    "to_fix = ['teams','participants','participantIdentities']\n",
    "for label in to_fix:\n",
    "    selected_columns.remove(label)\n",
    "selected_columns"
   ]
  },
  {
   "cell_type": "code",
   "execution_count": 18,
   "metadata": {},
   "outputs": [],
   "source": [
    "# Second round of prep and data cleaning\n",
    "\n",
    "my_data = []\n",
    "for match in selected_data:\n",
    "    match_data = {}\n",
    "    \n",
    "    for col in selected_columns:\n",
    "        match_data[col] = match[col]\n",
    "    \n",
    "    for pt in match['participantIdentities']:\n",
    "        if pt['player']['summonerName'] == account_name:\n",
    "            pid = pt['participantId']\n",
    "            \n",
    "    for each in match['participants']:\n",
    "        if each['participantId'] == pid:\n",
    "            team_id = each['teamId']\n",
    "            match_data['Champion'] = each['championId']\n",
    "            match_data['Kills'] = each['stats']['kills']\n",
    "            match_data['Deaths'] = each['stats']['deaths']\n",
    "            match_data['Assists'] = each['stats']['assists']\n",
    "            match_data['Objective Dmg'] = each['stats']['damageDealtToObjectives']\n",
    "            match_data['CS'] = each['stats']['totalMinionsKilled']\n",
    "            match_data['Vision Score'] = each['stats']['visionScore']\n",
    "            \n",
    "            if 'creepsPerMinDeltas' in each['timeline']:\n",
    "                cs = each['timeline']['creepsPerMinDeltas'].values()\n",
    "                avg_cs = sum(cs)/len(cs)\n",
    "                match_data['Avg CS/min'] = avg_cs\n",
    "            else:\n",
    "                match_data['Avg CS/min'] = np.nan\n",
    "        \n",
    "            \n",
    "            if 'xpPerMinDeltas' in each['timeline']:\n",
    "                xp = each['timeline']['xpPerMinDeltas'].values()\n",
    "                avg_xp = sum(cs)/len(cs)\n",
    "                match_data['Avg XP/min'] = avg_xp\n",
    "            else:\n",
    "                match_data['Avg XP/min'] = np.nan\n",
    "            \n",
    "            if 'goldPerMinDeltas' in each['timeline']:\n",
    "                xp = each['timeline']['goldPerMinDeltas'].values()\n",
    "                avg_g = sum(cs)/len(cs)\n",
    "                match_data['Avg Gold/min'] = avg_g\n",
    "            else:\n",
    "                match_data['Avg Gold/min'] = np.nan\n",
    "                    \n",
    "            if each['stats']['win'] == True:\n",
    "                match_data['Outcome'] = 'Win'\n",
    "            else:\n",
    "                match_data['Outcome'] = 'Loss'\n",
    "\n",
    "    for tm in match['teams']:\n",
    "        if tm['teamId'] == team_id:\n",
    "            match_data['Dragons Killed'] = tm['dragonKills']\n",
    "            match_data['Barons Killed'] = tm['baronKills']\n",
    "            match_data['Towers Destroyed'] = tm['towerKills']\n",
    "            match_data['Inhibitors Destroyed'] = tm['inhibitorKills']\n",
    "            \n",
    "            if tm['firstBlood'] == True:\n",
    "                match_data['First blood?'] = 'Yes'\n",
    "            else:\n",
    "                match_data['First blood?'] = 'No'\n",
    "            \n",
    "            if tm['firstTower'] == True:\n",
    "                match_data['First tower?'] = 'Yes'\n",
    "            else:\n",
    "                match_data['First tower?'] = 'No'\n",
    "        else:\n",
    "            match_data['Dragons Lost'] = tm['dragonKills']\n",
    "            match_data['Barons Lost'] = tm['baronKills']\n",
    "            match_data['Towers Lost'] = tm['towerKills']\n",
    "            match_data['Inhibitors Lost'] = tm['inhibitorKills']\n",
    "            \n",
    "    my_data.append(match_data)"
   ]
  },
  {
   "cell_type": "code",
   "execution_count": 20,
   "metadata": {},
   "outputs": [
    {
     "data": {
      "text/html": [
       "<div>\n",
       "<style>\n",
       "    .dataframe thead tr:only-child th {\n",
       "        text-align: right;\n",
       "    }\n",
       "\n",
       "    .dataframe thead th {\n",
       "        text-align: left;\n",
       "    }\n",
       "\n",
       "    .dataframe tbody tr th {\n",
       "        vertical-align: top;\n",
       "    }\n",
       "</style>\n",
       "<table border=\"1\" class=\"dataframe\">\n",
       "  <thead>\n",
       "    <tr style=\"text-align: right;\">\n",
       "      <th></th>\n",
       "      <th>Assists</th>\n",
       "      <th>Avg CS/min</th>\n",
       "      <th>Avg Gold/min</th>\n",
       "      <th>Avg XP/min</th>\n",
       "      <th>Barons Killed</th>\n",
       "      <th>Barons Lost</th>\n",
       "      <th>CS</th>\n",
       "      <th>Champion</th>\n",
       "      <th>Deaths</th>\n",
       "      <th>Dragons Killed</th>\n",
       "      <th>...</th>\n",
       "      <th>Kills</th>\n",
       "      <th>Objective Dmg</th>\n",
       "      <th>Outcome</th>\n",
       "      <th>Towers Destroyed</th>\n",
       "      <th>Towers Lost</th>\n",
       "      <th>Vision Score</th>\n",
       "      <th>gameDuration</th>\n",
       "      <th>gameId</th>\n",
       "      <th>gameVersion</th>\n",
       "      <th>seasonId</th>\n",
       "    </tr>\n",
       "  </thead>\n",
       "  <tbody>\n",
       "    <tr>\n",
       "      <th>0</th>\n",
       "      <td>9</td>\n",
       "      <td>6.95</td>\n",
       "      <td>6.95</td>\n",
       "      <td>6.95</td>\n",
       "      <td>1</td>\n",
       "      <td>0</td>\n",
       "      <td>187</td>\n",
       "      <td>81</td>\n",
       "      <td>3</td>\n",
       "      <td>3</td>\n",
       "      <td>...</td>\n",
       "      <td>5</td>\n",
       "      <td>9962</td>\n",
       "      <td>Win</td>\n",
       "      <td>11</td>\n",
       "      <td>0</td>\n",
       "      <td>26</td>\n",
       "      <td>1717</td>\n",
       "      <td>2732150232</td>\n",
       "      <td>8.4.218.8787</td>\n",
       "      <td>11</td>\n",
       "    </tr>\n",
       "    <tr>\n",
       "      <th>1</th>\n",
       "      <td>0</td>\n",
       "      <td>5.70</td>\n",
       "      <td>5.70</td>\n",
       "      <td>5.70</td>\n",
       "      <td>0</td>\n",
       "      <td>0</td>\n",
       "      <td>94</td>\n",
       "      <td>81</td>\n",
       "      <td>6</td>\n",
       "      <td>0</td>\n",
       "      <td>...</td>\n",
       "      <td>1</td>\n",
       "      <td>304</td>\n",
       "      <td>Loss</td>\n",
       "      <td>0</td>\n",
       "      <td>3</td>\n",
       "      <td>9</td>\n",
       "      <td>995</td>\n",
       "      <td>2732074209</td>\n",
       "      <td>8.4.218.8787</td>\n",
       "      <td>11</td>\n",
       "    </tr>\n",
       "    <tr>\n",
       "      <th>2</th>\n",
       "      <td>7</td>\n",
       "      <td>5.40</td>\n",
       "      <td>5.40</td>\n",
       "      <td>5.40</td>\n",
       "      <td>0</td>\n",
       "      <td>1</td>\n",
       "      <td>165</td>\n",
       "      <td>42</td>\n",
       "      <td>9</td>\n",
       "      <td>0</td>\n",
       "      <td>...</td>\n",
       "      <td>4</td>\n",
       "      <td>1251</td>\n",
       "      <td>Loss</td>\n",
       "      <td>2</td>\n",
       "      <td>11</td>\n",
       "      <td>14</td>\n",
       "      <td>1921</td>\n",
       "      <td>2732063117</td>\n",
       "      <td>8.4.218.8787</td>\n",
       "      <td>11</td>\n",
       "    </tr>\n",
       "    <tr>\n",
       "      <th>3</th>\n",
       "      <td>7</td>\n",
       "      <td>7.25</td>\n",
       "      <td>7.25</td>\n",
       "      <td>7.25</td>\n",
       "      <td>0</td>\n",
       "      <td>0</td>\n",
       "      <td>167</td>\n",
       "      <td>238</td>\n",
       "      <td>2</td>\n",
       "      <td>2</td>\n",
       "      <td>...</td>\n",
       "      <td>18</td>\n",
       "      <td>9154</td>\n",
       "      <td>Win</td>\n",
       "      <td>11</td>\n",
       "      <td>1</td>\n",
       "      <td>27</td>\n",
       "      <td>1739</td>\n",
       "      <td>2731543181</td>\n",
       "      <td>8.4.218.8787</td>\n",
       "      <td>11</td>\n",
       "    </tr>\n",
       "    <tr>\n",
       "      <th>4</th>\n",
       "      <td>4</td>\n",
       "      <td>7.40</td>\n",
       "      <td>7.40</td>\n",
       "      <td>7.40</td>\n",
       "      <td>0</td>\n",
       "      <td>0</td>\n",
       "      <td>127</td>\n",
       "      <td>69</td>\n",
       "      <td>3</td>\n",
       "      <td>0</td>\n",
       "      <td>...</td>\n",
       "      <td>0</td>\n",
       "      <td>91</td>\n",
       "      <td>Loss</td>\n",
       "      <td>0</td>\n",
       "      <td>5</td>\n",
       "      <td>18</td>\n",
       "      <td>1104</td>\n",
       "      <td>2731530648</td>\n",
       "      <td>8.4.218.8787</td>\n",
       "      <td>11</td>\n",
       "    </tr>\n",
       "  </tbody>\n",
       "</table>\n",
       "<p>5 rows × 25 columns</p>\n",
       "</div>"
      ],
      "text/plain": [
       "   Assists  Avg CS/min  Avg Gold/min  Avg XP/min  Barons Killed  Barons Lost  \\\n",
       "0        9        6.95          6.95        6.95              1            0   \n",
       "1        0        5.70          5.70        5.70              0            0   \n",
       "2        7        5.40          5.40        5.40              0            1   \n",
       "3        7        7.25          7.25        7.25              0            0   \n",
       "4        4        7.40          7.40        7.40              0            0   \n",
       "\n",
       "    CS  Champion  Deaths  Dragons Killed    ...     Kills Objective Dmg  \\\n",
       "0  187        81       3               3    ...         5          9962   \n",
       "1   94        81       6               0    ...         1           304   \n",
       "2  165        42       9               0    ...         4          1251   \n",
       "3  167       238       2               2    ...        18          9154   \n",
       "4  127        69       3               0    ...         0            91   \n",
       "\n",
       "  Outcome  Towers Destroyed  Towers Lost  Vision Score  gameDuration  \\\n",
       "0     Win                11            0            26          1717   \n",
       "1    Loss                 0            3             9           995   \n",
       "2    Loss                 2           11            14          1921   \n",
       "3     Win                11            1            27          1739   \n",
       "4    Loss                 0            5            18          1104   \n",
       "\n",
       "       gameId   gameVersion  seasonId  \n",
       "0  2732150232  8.4.218.8787        11  \n",
       "1  2732074209  8.4.218.8787        11  \n",
       "2  2732063117  8.4.218.8787        11  \n",
       "3  2731543181  8.4.218.8787        11  \n",
       "4  2731530648  8.4.218.8787        11  \n",
       "\n",
       "[5 rows x 25 columns]"
      ]
     },
     "execution_count": 20,
     "metadata": {},
     "output_type": "execute_result"
    }
   ],
   "source": [
    "my_data = pd.DataFrame(my_data)\n",
    "my_data.head()"
   ]
  },
  {
   "cell_type": "code",
   "execution_count": 21,
   "metadata": {},
   "outputs": [
    {
     "name": "stdout",
     "output_type": "stream",
     "text": [
      "Avg CS/min      1\n",
      "Avg Gold/min    1\n",
      "Avg XP/min      1\n",
      "dtype: int64\n"
     ]
    }
   ],
   "source": [
    "# Checking for null values; typically happens for 'Avg x/min' columns\n",
    "\n",
    "print(my_data.isnull().sum()[my_data.isnull().sum() > 0])\n",
    "to_drop = my_data[my_data.isnull().any(axis=1)].index"
   ]
  },
  {
   "cell_type": "code",
   "execution_count": 22,
   "metadata": {},
   "outputs": [
    {
     "data": {
      "text/plain": [
       "Assists                 0\n",
       "Avg CS/min              0\n",
       "Avg Gold/min            0\n",
       "Avg XP/min              0\n",
       "Barons Killed           0\n",
       "Barons Lost             0\n",
       "CS                      0\n",
       "Champion                0\n",
       "Deaths                  0\n",
       "Dragons Killed          0\n",
       "Dragons Lost            0\n",
       "First blood?            0\n",
       "First tower?            0\n",
       "Inhibitors Destroyed    0\n",
       "Inhibitors Lost         0\n",
       "Kills                   0\n",
       "Objective Dmg           0\n",
       "Outcome                 0\n",
       "Towers Destroyed        0\n",
       "Towers Lost             0\n",
       "Vision Score            0\n",
       "gameDuration            0\n",
       "gameId                  0\n",
       "gameVersion             0\n",
       "seasonId                0\n",
       "dtype: int64"
      ]
     },
     "execution_count": 22,
     "metadata": {},
     "output_type": "execute_result"
    }
   ],
   "source": [
    "# Dropping rows with null values; check if method was successful\n",
    "\n",
    "my_data = my_data.drop(to_drop)\n",
    "my_data.isnull().sum()"
   ]
  },
  {
   "cell_type": "code",
   "execution_count": 23,
   "metadata": {},
   "outputs": [],
   "source": [
    "# Swap champion IDs for champion names\n",
    "\n",
    "champions = requests.get('https://na1.api.riotgames.com/lol/static-data/v3/champions?api_key='+a_token)\n",
    "champion_list = champions.json()\n",
    "\n",
    "lol_champ_map = {}\n",
    "for champ in champion_list['data']:\n",
    "    champ_id = champion_list['data'][champ]['id']\n",
    "    lol_champ_map[champ_id] = champ \n",
    "\n",
    "my_data['Champion'] = my_data['Champion'].map(lol_champ_map)"
   ]
  },
  {
   "cell_type": "code",
   "execution_count": 24,
   "metadata": {},
   "outputs": [
    {
     "data": {
      "text/html": [
       "<div>\n",
       "<style>\n",
       "    .dataframe thead tr:only-child th {\n",
       "        text-align: right;\n",
       "    }\n",
       "\n",
       "    .dataframe thead th {\n",
       "        text-align: left;\n",
       "    }\n",
       "\n",
       "    .dataframe tbody tr th {\n",
       "        vertical-align: top;\n",
       "    }\n",
       "</style>\n",
       "<table border=\"1\" class=\"dataframe\">\n",
       "  <thead>\n",
       "    <tr style=\"text-align: right;\">\n",
       "      <th></th>\n",
       "      <th>Game ID</th>\n",
       "      <th>Game Duration (min)</th>\n",
       "      <th>Season ID</th>\n",
       "      <th>Outcome</th>\n",
       "      <th>Champion</th>\n",
       "      <th>Kills</th>\n",
       "      <th>Deaths</th>\n",
       "      <th>Assists</th>\n",
       "      <th>CS</th>\n",
       "      <th>Avg CS/min</th>\n",
       "      <th>...</th>\n",
       "      <th>Barons Lost</th>\n",
       "      <th>Dragons Killed</th>\n",
       "      <th>Dragons Lost</th>\n",
       "      <th>Inhibitors Destroyed</th>\n",
       "      <th>Inhibitors Lost</th>\n",
       "      <th>Objective Dmg</th>\n",
       "      <th>Towers Destroyed</th>\n",
       "      <th>Towers Lost</th>\n",
       "      <th>Vision Score</th>\n",
       "      <th>Game Version</th>\n",
       "    </tr>\n",
       "  </thead>\n",
       "  <tbody>\n",
       "    <tr>\n",
       "      <th>0</th>\n",
       "      <td>2732150232</td>\n",
       "      <td>28.616667</td>\n",
       "      <td>11</td>\n",
       "      <td>Win</td>\n",
       "      <td>Ezreal</td>\n",
       "      <td>5</td>\n",
       "      <td>3</td>\n",
       "      <td>9</td>\n",
       "      <td>187</td>\n",
       "      <td>6.95</td>\n",
       "      <td>...</td>\n",
       "      <td>0</td>\n",
       "      <td>3</td>\n",
       "      <td>0</td>\n",
       "      <td>3</td>\n",
       "      <td>0</td>\n",
       "      <td>9962</td>\n",
       "      <td>11</td>\n",
       "      <td>0</td>\n",
       "      <td>26</td>\n",
       "      <td>8.4.218.8787</td>\n",
       "    </tr>\n",
       "    <tr>\n",
       "      <th>1</th>\n",
       "      <td>2732074209</td>\n",
       "      <td>16.583333</td>\n",
       "      <td>11</td>\n",
       "      <td>Loss</td>\n",
       "      <td>Ezreal</td>\n",
       "      <td>1</td>\n",
       "      <td>6</td>\n",
       "      <td>0</td>\n",
       "      <td>94</td>\n",
       "      <td>5.70</td>\n",
       "      <td>...</td>\n",
       "      <td>0</td>\n",
       "      <td>0</td>\n",
       "      <td>1</td>\n",
       "      <td>0</td>\n",
       "      <td>0</td>\n",
       "      <td>304</td>\n",
       "      <td>0</td>\n",
       "      <td>3</td>\n",
       "      <td>9</td>\n",
       "      <td>8.4.218.8787</td>\n",
       "    </tr>\n",
       "    <tr>\n",
       "      <th>2</th>\n",
       "      <td>2732063117</td>\n",
       "      <td>32.016667</td>\n",
       "      <td>11</td>\n",
       "      <td>Loss</td>\n",
       "      <td>Corki</td>\n",
       "      <td>4</td>\n",
       "      <td>9</td>\n",
       "      <td>7</td>\n",
       "      <td>165</td>\n",
       "      <td>5.40</td>\n",
       "      <td>...</td>\n",
       "      <td>1</td>\n",
       "      <td>0</td>\n",
       "      <td>3</td>\n",
       "      <td>0</td>\n",
       "      <td>3</td>\n",
       "      <td>1251</td>\n",
       "      <td>2</td>\n",
       "      <td>11</td>\n",
       "      <td>14</td>\n",
       "      <td>8.4.218.8787</td>\n",
       "    </tr>\n",
       "    <tr>\n",
       "      <th>3</th>\n",
       "      <td>2731543181</td>\n",
       "      <td>28.983333</td>\n",
       "      <td>11</td>\n",
       "      <td>Win</td>\n",
       "      <td>Zed</td>\n",
       "      <td>18</td>\n",
       "      <td>2</td>\n",
       "      <td>7</td>\n",
       "      <td>167</td>\n",
       "      <td>7.25</td>\n",
       "      <td>...</td>\n",
       "      <td>0</td>\n",
       "      <td>2</td>\n",
       "      <td>0</td>\n",
       "      <td>3</td>\n",
       "      <td>0</td>\n",
       "      <td>9154</td>\n",
       "      <td>11</td>\n",
       "      <td>1</td>\n",
       "      <td>27</td>\n",
       "      <td>8.4.218.8787</td>\n",
       "    </tr>\n",
       "    <tr>\n",
       "      <th>4</th>\n",
       "      <td>2731530648</td>\n",
       "      <td>18.400000</td>\n",
       "      <td>11</td>\n",
       "      <td>Loss</td>\n",
       "      <td>Cassiopeia</td>\n",
       "      <td>0</td>\n",
       "      <td>3</td>\n",
       "      <td>4</td>\n",
       "      <td>127</td>\n",
       "      <td>7.40</td>\n",
       "      <td>...</td>\n",
       "      <td>0</td>\n",
       "      <td>0</td>\n",
       "      <td>1</td>\n",
       "      <td>0</td>\n",
       "      <td>0</td>\n",
       "      <td>91</td>\n",
       "      <td>0</td>\n",
       "      <td>5</td>\n",
       "      <td>18</td>\n",
       "      <td>8.4.218.8787</td>\n",
       "    </tr>\n",
       "  </tbody>\n",
       "</table>\n",
       "<p>5 rows × 25 columns</p>\n",
       "</div>"
      ],
      "text/plain": [
       "      Game ID  Game Duration (min)  Season ID Outcome    Champion  Kills  \\\n",
       "0  2732150232            28.616667         11     Win      Ezreal      5   \n",
       "1  2732074209            16.583333         11    Loss      Ezreal      1   \n",
       "2  2732063117            32.016667         11    Loss       Corki      4   \n",
       "3  2731543181            28.983333         11     Win         Zed     18   \n",
       "4  2731530648            18.400000         11    Loss  Cassiopeia      0   \n",
       "\n",
       "   Deaths  Assists   CS  Avg CS/min      ...       Barons Lost  \\\n",
       "0       3        9  187        6.95      ...                 0   \n",
       "1       6        0   94        5.70      ...                 0   \n",
       "2       9        7  165        5.40      ...                 1   \n",
       "3       2        7  167        7.25      ...                 0   \n",
       "4       3        4  127        7.40      ...                 0   \n",
       "\n",
       "   Dragons Killed Dragons Lost Inhibitors Destroyed  Inhibitors Lost  \\\n",
       "0               3            0                    3                0   \n",
       "1               0            1                    0                0   \n",
       "2               0            3                    0                3   \n",
       "3               2            0                    3                0   \n",
       "4               0            1                    0                0   \n",
       "\n",
       "   Objective Dmg  Towers Destroyed  Towers Lost  Vision Score  Game Version  \n",
       "0           9962                11            0            26  8.4.218.8787  \n",
       "1            304                 0            3             9  8.4.218.8787  \n",
       "2           1251                 2           11            14  8.4.218.8787  \n",
       "3           9154                11            1            27  8.4.218.8787  \n",
       "4             91                 0            5            18  8.4.218.8787  \n",
       "\n",
       "[5 rows x 25 columns]"
      ]
     },
     "execution_count": 24,
     "metadata": {},
     "output_type": "execute_result"
    }
   ],
   "source": [
    "# Rename/reorder columns within dataframe\n",
    "\n",
    "my_data['Game ID'] = my_data['gameId']\n",
    "my_data['Season ID'] = my_data['seasonId']\n",
    "my_data['Game Version'] = my_data['gameVersion']\n",
    "my_data['Game Duration (min)'] = my_data['gameDuration']/60\n",
    "\n",
    "column_reorder = ['Game ID', 'Game Duration (min)', 'Season ID', 'Outcome', 'Champion', 'Kills','Deaths', 'Assists', 'CS', \n",
    "                  'Avg CS/min', 'Avg Gold/min', 'Avg XP/min', 'First blood?', 'First tower?', 'Barons Killed',\n",
    "                  'Barons Lost', 'Dragons Killed','Dragons Lost', 'Inhibitors Destroyed', 'Inhibitors Lost', \n",
    "                  'Objective Dmg', 'Towers Destroyed', 'Towers Lost', 'Vision Score','Game Version']\n",
    "\n",
    "my_data = my_data[column_reorder]\n",
    "my_data.head()"
   ]
  },
  {
   "cell_type": "markdown",
   "metadata": {},
   "source": [
    "## Most played champion data"
   ]
  },
  {
   "cell_type": "code",
   "execution_count": 25,
   "metadata": {},
   "outputs": [
    {
     "data": {
      "text/plain": [
       "{1: 'Teemo', 2: 'Varus', 3: 'Kalista'}"
      ]
     },
     "execution_count": 25,
     "metadata": {},
     "output_type": "execute_result"
    }
   ],
   "source": [
    "most_played_champions = {}\n",
    "for i,champ in enumerate(list(my_data['Champion'].value_counts().index[0:3])):\n",
    "    most_played_champions[i+1] = champ\n",
    "most_played_champions    "
   ]
  },
  {
   "cell_type": "code",
   "execution_count": 26,
   "metadata": {},
   "outputs": [
    {
     "name": "stdout",
     "output_type": "stream",
     "text": [
      "Teemo: 68.75\n"
     ]
    }
   ],
   "source": [
    "most_played_outcomes = my_data[my_data['Champion']==most_played_champions[1]]['Outcome'].value_counts()\n",
    "print(most_played_champions[1]+':',(most_played_outcomes['Win']/most_played_outcomes.sum())*100)"
   ]
  },
  {
   "cell_type": "markdown",
   "metadata": {},
   "source": [
    "## Factors that affect match outcome"
   ]
  },
  {
   "cell_type": "code",
   "execution_count": 27,
   "metadata": {},
   "outputs": [],
   "source": [
    "import matplotlib.pyplot as plt\n",
    "%matplotlib inline\n",
    "import seaborn as sns"
   ]
  },
  {
   "cell_type": "code",
   "execution_count": 29,
   "metadata": {},
   "outputs": [
    {
     "data": {
      "image/png": "[encoded data removed]",
      "text/plain": [
       "<matplotlib.figure.Figure at 0x200aa6b1518>"
      ]
     },
     "metadata": {},
     "output_type": "display_data"
    }
   ],
   "source": [
    "# Evaluate factors that affect match outcome using numeric columns. \n",
    "\n",
    "numeric_col = list(my_data.select_dtypes(include=[np.number]).columns.drop(['Game ID','Season ID','Barons Lost','Dragons Lost','Towers Lost','Inhibitors Lost']))\n",
    "l_green = (51/255,255/255,127/255)\n",
    "l_red = (255/255,102/255,102/255)\n",
    "fig = plt.figure(figsize=(30,30))\n",
    "for i, col in enumerate(numeric_col):\n",
    "    sns.set_style('white')\n",
    "    if my_data['Outcome'][0] == 'Win':\n",
    "        sns.set_palette([l_green,l_red,])\n",
    "    else:\n",
    "        sns.set_palette([l_red,l_green])\n",
    "    ax = fig.add_subplot(4,4,i+1)\n",
    "    sns.barplot(my_data['Outcome'],my_data[col],ci=None)\n",
    "    sns.despine(top=True,right=True,left=True,bottom=False)\n",
    "    plt.xlabel('')\n",
    "    ax.set_yticklabels([''])\n",
    "plt.savefig('Wins v Losses')\n",
    "plt.show()"
   ]
  },
  {
   "cell_type": "markdown",
   "metadata": {},
   "source": [
    "## Factors that affect objective control"
   ]
  },
  {
   "cell_type": "code",
   "execution_count": 30,
   "metadata": {},
   "outputs": [
    {
     "name": "stdout",
     "output_type": "stream",
     "text": [
      "Barons Killed - Correlates highest with: Kills  - Correlation coefficient= 0.521931659534\n",
      "Dragons Killed - Correlates highest with: Vision Score  - Correlation coefficient= 0.489662366719\n",
      "Towers Destroyed - Correlates highest with: Kills  - Correlation coefficient= 0.666961691981\n",
      "Inhibitors Destroyed - Correlates highest with: Kills  - Correlation coefficient= 0.573464778135\n",
      "Objective Dmg - Correlates highest with: Kills  - Correlation coefficient= 0.689755151184\n"
     ]
    }
   ],
   "source": [
    "objectives = ['Barons Killed','Dragons Killed','Towers Destroyed','Inhibitors Destroyed','Objective Dmg','Game Duration (min)']\n",
    "obj_corr = my_data[numeric_col].corr()[objectives]\n",
    "for col in objectives[:5]:\n",
    "    print(col+' -', 'Correlates highest with: '+list(obj_corr[obj_corr[col] == obj_corr.drop(objectives).max()[col]][col].index)[0], ' - Correlation coefficient=',list(obj_corr[obj_corr[col] == obj_corr.drop(objectives).max()[col]][col])[0])"
   ]
  },
  {
   "cell_type": "markdown",
   "metadata": {},
   "source": [
    "## Observations\n",
    "As a Gold V player, it's interesting to note the affect that kills and deaths have on the outcome of a match as compared to other factors. I conducted a similar analysis on a Platinum account and found that kills and deaths had little to no affect on the outcome of the match. It would be interesting to further quantify/test this concept further. Moreover, it would be interesting to expand this analysis to other divisions. \n",
    "\n",
    "It also appears that key objectives (towers, barons, dragons, inhibitors) all heavily affect match outcome. Below, I briefly evaluated which factors during my matches most heavily influenced objective control. Unsurprisingly, objective control seems to mildly correlate with kills across the board, suggesting that at my division, kills enable teams to more easily contest and take key objectives.\n",
    "\n",
    "*Ideas for further analysis:*\n",
    "\n",
    "    * Evaluate data from different divisions to see if match outcome correlations change from division to division\n",
    "    * Evaluate categorical data that I haven't included in data analysis\n",
    "    * Explore machine learning algorithms that can be used to optimize match-up strategies from champion select onward"
   ]
  }
 ],
 "metadata": {
  "kernelspec": {
   "display_name": "Python 3",
   "language": "python",
   "name": "python3"
  },
  "language_info": {
   "codemirror_mode": {
    "name": "ipython",
    "version": 3
   },
   "file_extension": ".py",
   "mimetype": "text/x-python",
   "name": "python",
   "nbconvert_exporter": "python",
   "pygments_lexer": "ipython3",
   "version": "3.6.3"
  }
 },
 "nbformat": 4,
 "nbformat_minor": 2
}
